{
 "cells": [
  {
   "cell_type": "code",
   "execution_count": 1,
   "id": "8bb038b6",
   "metadata": {
    "_cell_guid": "b1076dfc-b9ad-4769-8c92-a6c4dae69d19",
    "_uuid": "8f2839f25d086af736a60e9eeb907d3b93b6e0e5",
    "execution": {
     "iopub.execute_input": "2024-12-29T13:50:44.538129Z",
     "iopub.status.busy": "2024-12-29T13:50:44.537835Z",
     "iopub.status.idle": "2024-12-29T13:50:52.464987Z",
     "shell.execute_reply": "2024-12-29T13:50:52.464246Z"
    },
    "papermill": {
     "duration": 7.932759,
     "end_time": "2024-12-29T13:50:52.466544",
     "exception": false,
     "start_time": "2024-12-29T13:50:44.533785",
     "status": "completed"
    },
    "tags": []
   },
   "outputs": [],
   "source": [
    "import os\n",
    "import cv2 as cv\n",
    "import glob as gb\n",
    "import numpy as np\n",
    "import pandas as pd\n",
    "import matplotlib.pyplot as plt\n",
    "from tensorflow.keras.applications.inception_v3 import InceptionV3\n",
    "from tensorflow.keras import Model, layers, Sequential, optimizers\n",
    "from tensorflow.keras.callbacks import ModelCheckpoint\n",
    "from tensorflow import keras\n",
    "from tensorflow.keras import callbacks, layers, Model\n",
    "import cv2\n",
    "import matplotlib.pyplot as plt\n",
    "import matplotlib.image as mpimg\n"
   ]
  },
  {
   "cell_type": "code",
   "execution_count": 2,
   "id": "92ea283a",
   "metadata": {
    "execution": {
     "iopub.execute_input": "2024-12-29T13:50:52.472626Z",
     "iopub.status.busy": "2024-12-29T13:50:52.472190Z",
     "iopub.status.idle": "2024-12-29T13:50:52.475303Z",
     "shell.execute_reply": "2024-12-29T13:50:52.474687Z"
    },
    "papermill": {
     "duration": 0.007031,
     "end_time": "2024-12-29T13:50:52.476399",
     "exception": false,
     "start_time": "2024-12-29T13:50:52.469368",
     "status": "completed"
    },
    "tags": []
   },
   "outputs": [],
   "source": [
    "train_dir= '/kaggle/input/face-detection-dataset/merged/images/train'\n",
    "test_dir='/kaggle/input/face-detection-dataset/merged/images/validation'"
   ]
  },
  {
   "cell_type": "markdown",
   "id": "c282bfde",
   "metadata": {
    "papermill": {
     "duration": 0.001977,
     "end_time": "2024-12-29T13:50:52.480599",
     "exception": false,
     "start_time": "2024-12-29T13:50:52.478622",
     "status": "completed"
    },
    "tags": []
   },
   "source": [
    "# Exploratory data analysis"
   ]
  },
  {
   "cell_type": "markdown",
   "id": "a14b8a14",
   "metadata": {
    "papermill": {
     "duration": 0.002246,
     "end_time": "2024-12-29T13:50:52.485126",
     "exception": false,
     "start_time": "2024-12-29T13:50:52.482880",
     "status": "completed"
    },
    "tags": []
   },
   "source": [
    "# 2.1  preparing folders config"
   ]
  },
  {
   "cell_type": "code",
   "execution_count": 3,
   "id": "8776e824",
   "metadata": {
    "execution": {
     "iopub.execute_input": "2024-12-29T13:50:52.490147Z",
     "iopub.status.busy": "2024-12-29T13:50:52.489936Z",
     "iopub.status.idle": "2024-12-29T13:50:52.493773Z",
     "shell.execute_reply": "2024-12-29T13:50:52.493183Z"
    },
    "papermill": {
     "duration": 0.007594,
     "end_time": "2024-12-29T13:50:52.494884",
     "exception": false,
     "start_time": "2024-12-29T13:50:52.487290",
     "status": "completed"
    },
    "tags": []
   },
   "outputs": [],
   "source": [
    "os.mkdir(\"/kaggle/working/face_dataset\")\n",
    "os.mkdir(\"/kaggle/working/face_dataset/test\")\n",
    "os.mkdir(\"/kaggle/working/face_dataset/test/images\")\n",
    "os.mkdir(\"/kaggle/working/face_dataset/test/labels\")\n",
    "os.mkdir(\"/kaggle/working/face_dataset/train\")\n",
    "os.mkdir(\"/kaggle/working/face_dataset/train/images\")\n",
    "os.mkdir(\"/kaggle/working/face_dataset/train/labels\")"
   ]
  },
  {
   "cell_type": "code",
   "execution_count": 4,
   "id": "0783b670",
   "metadata": {
    "execution": {
     "iopub.execute_input": "2024-12-29T13:50:52.499913Z",
     "iopub.status.busy": "2024-12-29T13:50:52.499708Z",
     "iopub.status.idle": "2024-12-29T13:50:52.747140Z",
     "shell.execute_reply": "2024-12-29T13:50:52.746299Z"
    },
    "papermill": {
     "duration": 0.251393,
     "end_time": "2024-12-29T13:50:52.748485",
     "exception": false,
     "start_time": "2024-12-29T13:50:52.497092",
     "status": "completed"
    },
    "tags": []
   },
   "outputs": [
    {
     "name": "stdout",
     "output_type": "stream",
     "text": [
      "face_dataset  __notebook__.ipynb\r\n"
     ]
    },
    {
     "name": "stderr",
     "output_type": "stream",
     "text": [
      "/usr/lib/python3.10/pty.py:89: RuntimeWarning: os.fork() was called. os.fork() is incompatible with multithreaded code, and JAX is multithreaded, so this will likely lead to a deadlock.\n",
      "  pid, fd = os.forkpty()\n"
     ]
    }
   ],
   "source": [
    "!cd ./\n",
    "!ls"
   ]
  },
  {
   "cell_type": "code",
   "execution_count": 5,
   "id": "ea40636f",
   "metadata": {
    "execution": {
     "iopub.execute_input": "2024-12-29T13:50:52.754349Z",
     "iopub.status.busy": "2024-12-29T13:50:52.754113Z",
     "iopub.status.idle": "2024-12-29T13:57:34.256269Z",
     "shell.execute_reply": "2024-12-29T13:57:34.255214Z"
    },
    "papermill": {
     "duration": 401.506888,
     "end_time": "2024-12-29T13:57:34.257988",
     "exception": false,
     "start_time": "2024-12-29T13:50:52.751100",
     "status": "completed"
    },
    "tags": []
   },
   "outputs": [],
   "source": [
    "size = (640,640)\n",
    "\n",
    "image_file_name = os.listdir(train_dir+\"/\")\n",
    "for i in range(0,len(image_file_name)):\n",
    "    \n",
    "        img = cv2.imread(train_dir+\"/\"+image_file_name[i], cv2.IMREAD_COLOR)\n",
    "        img = cv2.cvtColor(img,cv2.COLOR_BGR2RGB)\n",
    "        img = cv2.resize(img, size)\n",
    "        cv2.imwrite(\"/kaggle/working/face_dataset/train/images/\"+image_file_name[i], img) "
   ]
  },
  {
   "cell_type": "code",
   "execution_count": 6,
   "id": "9a8c9aab",
   "metadata": {
    "execution": {
     "iopub.execute_input": "2024-12-29T13:57:34.264413Z",
     "iopub.status.busy": "2024-12-29T13:57:34.264115Z",
     "iopub.status.idle": "2024-12-29T13:59:13.718461Z",
     "shell.execute_reply": "2024-12-29T13:59:13.717680Z"
    },
    "papermill": {
     "duration": 99.459282,
     "end_time": "2024-12-29T13:59:13.720202",
     "exception": false,
     "start_time": "2024-12-29T13:57:34.260920",
     "status": "completed"
    },
    "tags": []
   },
   "outputs": [],
   "source": [
    "image_file_name = os.listdir(test_dir+\"/\")\n",
    "for i in range(0,len(image_file_name)):\n",
    "        img = cv2.imread(test_dir+\"/\"+image_file_name[i], cv2.IMREAD_COLOR)\n",
    "        img = cv2.cvtColor(img,cv2.COLOR_BGR2RGB)\n",
    "        img = cv2.resize(img, size)\n",
    "        cv2.imwrite(\"/kaggle/working/face_dataset/test/images/\"+image_file_name[i], img) "
   ]
  },
  {
   "cell_type": "markdown",
   "id": "1585f5e1",
   "metadata": {
    "papermill": {
     "duration": 0.002298,
     "end_time": "2024-12-29T13:59:13.725539",
     "exception": false,
     "start_time": "2024-12-29T13:59:13.723241",
     "status": "completed"
    },
    "tags": []
   },
   "source": [
    "# Transferring files to the output file system"
   ]
  },
  {
   "cell_type": "code",
   "execution_count": 7,
   "id": "59ea18b4",
   "metadata": {
    "execution": {
     "iopub.execute_input": "2024-12-29T13:59:13.731509Z",
     "iopub.status.busy": "2024-12-29T13:59:13.731266Z",
     "iopub.status.idle": "2024-12-29T13:59:13.737346Z",
     "shell.execute_reply": "2024-12-29T13:59:13.736769Z"
    },
    "papermill": {
     "duration": 0.010494,
     "end_time": "2024-12-29T13:59:13.738570",
     "exception": false,
     "start_time": "2024-12-29T13:59:13.728076",
     "status": "completed"
    },
    "tags": []
   },
   "outputs": [],
   "source": [
    "def process_files(input_files_path,output_files_path,data_split):\n",
    "        txt_file_name = os.listdir(input_files_path)\n",
    "        bounding_boxes = 0\n",
    "        data_size = 0\n",
    "        for i in range(0,len(txt_file_name)):\n",
    "                data_size += 1\n",
    "                with open(input_files_path + \"/\" + txt_file_name[i], \"r\") as source:\n",
    "                       with open(output_files_path+\"/\"+ txt_file_name[i], \"w\") as destination :\n",
    "                            for line in source:\n",
    "                                        labeling_data = line.split()\n",
    "                                        top_left_x_coord = float(labeling_data[1])\n",
    "                                        top_left_y_coord = float(labeling_data[2])\n",
    "                                        face_width = float(labeling_data[3])\n",
    "                                        face_height = float(labeling_data[4])\n",
    "                                        destination.write(str(labeling_data[0])+\" \")\n",
    "                                        destination.write(str(top_left_x_coord)+\" \")\n",
    "                                        destination.write(str(top_left_y_coord)+\" \")\n",
    "                                        destination.write(str(face_width)+\" \")\n",
    "                                        destination.write(str(face_height)+\"\\n\")\n",
    "                                        bounding_boxes += 1\n",
    "\n",
    "        print(str(data_split),\" data has \",str(data_size),\" image, including a total of \",str(bounding_boxes),\" instances of bounding boxes, averaging \",str(bounding_boxes/data_size),\" bounding box per image\")\n",
    "       \n",
    "\n"
   ]
  },
  {
   "cell_type": "code",
   "execution_count": 8,
   "id": "7cb3ec4c",
   "metadata": {
    "execution": {
     "iopub.execute_input": "2024-12-29T13:59:13.744120Z",
     "iopub.status.busy": "2024-12-29T13:59:13.743918Z",
     "iopub.status.idle": "2024-12-29T14:00:52.911418Z",
     "shell.execute_reply": "2024-12-29T14:00:52.910473Z"
    },
    "papermill": {
     "duration": 99.17372,
     "end_time": "2024-12-29T14:00:52.914631",
     "exception": false,
     "start_time": "2024-12-29T13:59:13.740911",
     "status": "completed"
    },
    "tags": []
   },
   "outputs": [
    {
     "name": "stdout",
     "output_type": "stream",
     "text": [
      "training  data has  26266  image, including a total of  200967  instances of bounding boxes, averaging  7.6512221122363515  bounding box per image\n"
     ]
    }
   ],
   "source": [
    "process_files(\"/kaggle/input/face-detection-dataset/merged/labels/train\",\"/kaggle/working/face_dataset/train/labels\",\"training\")\n",
    "#process_data(\"../input/animals-detection-images-dataset/train\")\n"
   ]
  },
  {
   "cell_type": "code",
   "execution_count": 9,
   "id": "3adf901b",
   "metadata": {
    "execution": {
     "iopub.execute_input": "2024-12-29T14:00:52.920379Z",
     "iopub.status.busy": "2024-12-29T14:00:52.920146Z",
     "iopub.status.idle": "2024-12-29T14:01:17.162839Z",
     "shell.execute_reply": "2024-12-29T14:01:17.161851Z"
    },
    "papermill": {
     "duration": 24.247087,
     "end_time": "2024-12-29T14:01:17.164263",
     "exception": false,
     "start_time": "2024-12-29T14:00:52.917176",
     "status": "completed"
    },
    "tags": []
   },
   "outputs": [
    {
     "name": "stdout",
     "output_type": "stream",
     "text": [
      "validation  data has  6573  image, including a total of  50007  instances of bounding boxes, averaging  7.607941579187585  bounding box per image\n"
     ]
    }
   ],
   "source": [
    "process_files(\"/kaggle/input/face-detection-dataset/merged/labels/validation\",\"/kaggle/working/face_dataset/test/labels\",\"validation\")\n"
   ]
  }
 ],
 "metadata": {
  "kaggle": {
   "accelerator": "gpu",
   "dataSources": [
    {
     "datasetId": 3624253,
     "sourceId": 6300428,
     "sourceType": "datasetVersion"
    }
   ],
   "dockerImageVersionId": 30823,
   "isGpuEnabled": true,
   "isInternetEnabled": true,
   "language": "python",
   "sourceType": "notebook"
  },
  "kernelspec": {
   "display_name": "Python 3",
   "language": "python",
   "name": "python3"
  },
  "language_info": {
   "codemirror_mode": {
    "name": "ipython",
    "version": 3
   },
   "file_extension": ".py",
   "mimetype": "text/x-python",
   "name": "python",
   "nbconvert_exporter": "python",
   "pygments_lexer": "ipython3",
   "version": "3.10.12"
  },
  "papermill": {
   "default_parameters": {},
   "duration": 635.865636,
   "end_time": "2024-12-29T14:01:18.286726",
   "environment_variables": {},
   "exception": null,
   "input_path": "__notebook__.ipynb",
   "output_path": "__notebook__.ipynb",
   "parameters": {},
   "start_time": "2024-12-29T13:50:42.421090",
   "version": "2.3.4"
  }
 },
 "nbformat": 4,
 "nbformat_minor": 5
}
